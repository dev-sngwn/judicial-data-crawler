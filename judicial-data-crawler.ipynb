{
 "cells": [
  {
   "cell_type": "code",
   "execution_count": 19,
   "metadata": {},
   "outputs": [],
   "source": [
    "from selenium import webdriver\n",
    "from selenium.webdriver.support.ui import WebDriverWait\n",
    "\n",
    "import time\n",
    "import json\n",
    "\n",
    "CHROME_DRIVER_PATH = r'C:/chromedriver/chromedriver.exe'\n",
    "PAGE_URL = \"http://www.law.go.kr/precSc.do?tabMenuId=tab67\"\n",
    "SAVE_PATH = './data/'\n",
    "\n",
    "driver = webdriver.Chrome(executable_path=CHROME_DRIVER_PATH)\n",
    "driver.implicitly_wait(5)"
   ]
  },
  {
   "cell_type": "code",
   "execution_count": 20,
   "metadata": {},
   "outputs": [],
   "source": [
    "def open_main():\n",
    "    driver.get(PAGE_URL)\n",
    "\n",
    "def main_to_page():\n",
    "    container = driver.find_element_by_id(\"viewHeightDiv\")\n",
    "    tl = container.find_element_by_class_name('tl')\n",
    "    tl.find_element_by_tag_name('a').click()\n",
    "\n",
    "def get_corpus_from_page():\n",
    "    corpus_set = []\n",
    "    corpus = []\n",
    "    \n",
    "    content = driver.find_element_by_class_name(\"pgroup\")\n",
    "    p = content.find_elements_by_class_name(\"pty4_dep1\")\n",
    "    h5 = content.find_elements_by_tag_name(\"h5\")\n",
    "    \n",
    "    for i in range(len(p)):\n",
    "        corpus.append(h5[i].text)\n",
    "        corpus.append(p[i].text)\n",
    "        corpus_set.append(corpus.copy())\n",
    "        corpus.clear()\n",
    "    \n",
    "    return corpus_set\n",
    "\n",
    "def get_page_list():\n",
    "    all_page = driver.find_element_by_id(\"leftContent\")\n",
    "    page_list = all_page.find_elements_by_tag_name(\"li\")\n",
    "    \n",
    "    return page_list\n",
    "\n",
    "def get_json_form(raw):\n",
    "    contents = []\n",
    "    \n",
    "    for con in raw:\n",
    "        contents.append({con[0] : con[1]})\n",
    "    \n",
    "    return contents"
   ]
  },
  {
   "cell_type": "code",
   "execution_count": 21,
   "metadata": {},
   "outputs": [],
   "source": [
    "open_main()\n",
    "main_to_page()"
   ]
  },
  {
   "cell_type": "code",
   "execution_count": null,
   "metadata": {
    "scrolled": true
   },
   "outputs": [],
   "source": [
    "order_list = []\n",
    "reason_list = []\n",
    "json_list = []\n",
    "visited_page = ['0']\n",
    "first_page = True\n",
    "last_page = False\n",
    "terminal = False\n",
    "corrupted_count = 0\n",
    "corrupted_flag = False\n",
    "\n",
    "while True:\n",
    "    flag = True\n",
    "    while flag:\n",
    "        try:\n",
    "            all_pages = get_page_list()\n",
    "            flag = False\n",
    "            \n",
    "        except:\n",
    "            flag = True   \n",
    "            \n",
    "    if all_pages[-1].text == visited_page[-1]:\n",
    "        last_page = True \n",
    "            \n",
    "    for page in all_pages[:]:\n",
    "        try:\n",
    "            if len(page.text) <= 4:\n",
    "                try:\n",
    "                    if int(page.text) % 100 == 0:\n",
    "                        with open(SAVE_PATH + page.text + \".json\", 'w') as f:\n",
    "                            json.dump(json_list, f, ensure_ascii=False)\n",
    "                        \n",
    "                except:\n",
    "                    print(\"File I/O Error\")\n",
    "                \n",
    "                if first_page:\n",
    "                    if page.text == all_pages[-1].text:\n",
    "                        terminal = True\n",
    "                    \n",
    "                    visited_page.append(page.text)\n",
    "                    first_page = False\n",
    "                \n",
    "                if page.text not in visited_page:\n",
    "                    visited_page.append(page.text)\n",
    "                    page.click()\n",
    "                    time.sleep(2)\n",
    "                    break\n",
    "\n",
    "            else:\n",
    "                page.click()\n",
    "\n",
    "                flag = True\n",
    "                while flag:\n",
    "                    try:\n",
    "                        json_list.append(get_json_form(get_corpus_from_page()))\n",
    "                        flag = False\n",
    "                        \n",
    "                    except:\n",
    "                        flag = True\n",
    "                        \n",
    "        except:\n",
    "            print(\"Exception\")\n",
    "            continue\n",
    "    \n",
    "    if last_page:\n",
    "        flag = True\n",
    "        while flag:\n",
    "            try:\n",
    "                paging = driver.find_element_by_class_name(\"paging\")\n",
    "                a = paging.find_elements_by_tag_name(\"a\")\n",
    "                flag = False\n",
    "                \n",
    "            except:\n",
    "                flag = True\n",
    "                \n",
    "        if len(a) < 6:\n",
    "            terminal = True\n",
    "        \n",
    "        if len(visited_page) <= 6:\n",
    "            a[4].click()\n",
    "            \n",
    "        else:\n",
    "            a[6].click()\n",
    "            \n",
    "        time.sleep(2)\n",
    "        last_page = False\n",
    "        first_page = True\n",
    "        \n",
    "    if terminal:\n",
    "        break\n",
    "            "
   ]
  },
  {
   "cell_type": "code",
   "execution_count": 5,
   "metadata": {},
   "outputs": [],
   "source": [
    "with open(SAVE_PATH + \"judicial-data.json\", 'w') as f:\n",
    "    json.dump(json_list, f, ensure_ascii=False)"
   ]
  },
  {
   "cell_type": "code",
   "execution_count": 3,
   "metadata": {},
   "outputs": [
    {
     "data": {
      "text/plain": [
       "80216"
      ]
     },
     "execution_count": 3,
     "metadata": {},
     "output_type": "execute_result"
    }
   ],
   "source": [
    "with open(SAVE_PATH + \"judicial-data.json\", 'r') as f:\n",
    "    json_data = json.load(f)\n",
    "    \n",
    "len(json_data)"
   ]
  },
  {
   "cell_type": "code",
   "execution_count": 18,
   "metadata": {
    "scrolled": false
   },
   "outputs": [
    {
     "data": {
      "text/plain": [
       "[{'【원고, 상고인】': '원고 1 외 3인'},\n",
       " {'【피고, 피상고인】': '국민건강보험공단 인천부평지사장 (소송대리인 변호사 장덕규)'},\n",
       " {'【원심판결】': '서울고법 2016. 5. 20. 선고 2015누52663 판결'},\n",
       " {'【주 문】': '상고를 모두 기각한다. 상고비용은 원고들이 부담한다.'},\n",
       " {'【이 유】': '상고이유를 판단한다. \\n1.  항고소송의 대상이 되는 행정처분이라 함은 행정청의 공법상 행위로서 특정사항에 대하여 법규에 의한 권리의 설정 또는 의무의 부담을 명하며 기타 법률상 효과를 발생하게 하는 등 국민의 구체적 권리의무에 직접적 변동을 초래하는 행위를 말하고, 행정청 내부에서의 행위나 알선, 권유, 사실상의 통지 등과 같이 상대방 또는 기타 관계자들의 법률상 지위에 직접적인 법률적 변동을 일으키지 아니하는 행위는 항고소송의 대상이 될 수 없다(대법원 2008. 4. 24. 선고 2008두3500 판결 등 참조).\\n한편 국민건강보험법 제5조는 국내에 거주하는 국민은 원칙적으로 건강보험의 가입자 또는 피부양자가 된다고 규정하고 있고, 제6조는 건강보험의 가입자를 직장가입자와 지역가입자로 분류하고 있다. 같은 법 제8조 내지 제10조는 직장가입자 또는 지역가입자 자격의 취득·변동 및 상실 시기를 구체적으로 명시하고 있고, 특히 제9조 제1항은 지역가입자는 적용대상사업장의 사용자로 되거나 근로자 등으로 사용된 날에(제1호), 직장가입자는 그 사용관계가 끝난 날의 다음 날에(제3호) 각각 그 자격이 변동된다고 규정하고 있다. 또한 국민건강보험법 제11조는 가입자의 자격의 취득·변동 및 상실은 가입자 자격의 취득·변동 및 상실 시기에 소급하여 효력이 발생하는 것으로 규정하고 있는데(제1항 전문), 다만 가입자 자격의 취득·변동 및 상실 여부 및 시기를 명확하게 하기 위하여 보험자가 그 사실을 확인할 수 있도록 하고(제1항 후문), 가입자 또는 가입자이었던 자도 보험자에게 그 확인을 청구할 수 있는 권리를 부여하고 있다(제2항).\\n \\n2.  원심은, 위와 같은 국민건강보험법의 관련 규정에 비추어 볼 때, 국민건강보험 직장가입자 또는 지역가입자 자격 변동은 법령이 정하는 사유가 생기면 별도 처분 등의 개입 없이 그 사유가 발생한 날부터 그 변동의 효력이 당연히 발생하므로, 피고가 원고들에 대하여 가입자 자격이 변동되었다는 취지의 ‘직장가입자 자격상실 및 자격변동 안내’ 통보를 하였거나, 그로 인하여 사업장이 국민건강보험법상의 적용대상사업장에서 제외되었다는 취지의 ‘사업장 직권탈퇴에 따른 가입자 자격상실 안내’ 통보를 하였다고 하더라도, 이는 원고들의 가입자 자격의 변동 여부 및 시기를 확인하는 의미에서 한 사실상 통지행위에 불과할 뿐, 위 각 통보에 의하여 가입자 자격이 변동되는 효력이 발생한다고 볼 수 없고, 또한 위 각 통보로 인하여 원고들에게 지역가입자로서의 건강보험료를 납부하여야 하는 의무가 발생함으로써 원고들의 권리의무에 직접적 변동을 초래하는 것도 아니라는 이유를 들어, 위 각 통보의 처분성이 인정되지 않는다고 보아, 그 취소를 구하는 원고들의 소를 모두 각하한 제1심판결을 그대로 유지하였다.\\n원심판결 이유를 관련 법령 및 앞서 본 법리에 비추어 살펴보면, 이러한 원심의 판단은 정당하고 거기에 항고소송의 대상에 관한 법리 등을 오해한 잘못이 없다.\\n \\n3.  결론\\n그러므로 상고를 모두 기각하고, 상고비용은 패소자들이 부담하기로 하여, 관여 대법관의 일치된 의견으로 주문과 같이 판결한다.'}]"
      ]
     },
     "execution_count": 18,
     "metadata": {},
     "output_type": "execute_result"
    }
   ],
   "source": [
    "json_data[29]"
   ]
  }
 ],
 "metadata": {
  "kernelspec": {
   "display_name": "Python 3",
   "language": "python",
   "name": "python3"
  },
  "language_info": {
   "codemirror_mode": {
    "name": "ipython",
    "version": 3
   },
   "file_extension": ".py",
   "mimetype": "text/x-python",
   "name": "python",
   "nbconvert_exporter": "python",
   "pygments_lexer": "ipython3",
   "version": "3.7.3"
  }
 },
 "nbformat": 4,
 "nbformat_minor": 2
}
